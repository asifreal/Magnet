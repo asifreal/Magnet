{
 "cells": [
  {
   "cell_type": "code",
   "execution_count": 1,
   "id": "d511d60b",
   "metadata": {},
   "outputs": [],
   "source": [
    "import seisbench.data as sbd\n",
    "from lit_magnet import LitMagNet, prepare_data\n",
    "\n",
    "model = LitMagNet().load_from_checkpoint(checkpoint_path=\"../results/model.ckpt\")"
   ]
  },
  {
   "cell_type": "code",
   "execution_count": 2,
   "id": "9fa906be",
   "metadata": {},
   "outputs": [
    {
     "name": "stderr",
     "output_type": "stream",
     "text": [
      "/home/qgq/miniconda3/lib/python3.8/site-packages/seisbench/data/base.py:1697: DtypeWarning: Columns (7,11,13,14,15,18,19,20,21,22,24,25,26,30,31) have mixed types.Specify dtype option on import or set low_memory=False.\n",
      "  super().__init__(path=None, name=self._name_internal(), chunks=chunks, **kwargs)\n"
     ]
    },
    {
     "name": "stdout",
     "output_type": "stream",
     "text": [
      "available data size = len(stead)\n",
      "20641 3440 10321\n"
     ]
    }
   ],
   "source": [
    "train_loader, val_loader, test_loader = prepare_data(reshuffle=True, batch_size=128, mode=\"test\")"
   ]
  },
  {
   "cell_type": "code",
   "execution_count": 3,
   "id": "736d4450",
   "metadata": {},
   "outputs": [
    {
     "name": "stderr",
     "output_type": "stream",
     "text": [
      "GPU available: True, used: False\n",
      "TPU available: False, using: 0 TPU cores\n",
      "/home/qgq/miniconda3/lib/python3.8/site-packages/pytorch_lightning/trainer/connectors/accelerator_connector.py:596: UserWarning: GPU available but not used. Set the gpus flag in your trainer `Trainer(gpus=1)` or script `--gpus=1`.\n",
      "  rank_zero_warn(\n",
      "The following callbacks returned in `LightningModule.configure_callbacks` will override existing callbacks passed to Trainer: ModelCheckpoint\n",
      "2022-02-25 21:04:22.651920: W tensorflow/stream_executor/platform/default/dso_loader.cc:64] Could not load dynamic library 'libcudart.so.11.0'; dlerror: libcudart.so.11.0: cannot open shared object file: No such file or directory\n",
      "2022-02-25 21:04:22.651985: I tensorflow/stream_executor/cuda/cudart_stub.cc:29] Ignore above cudart dlerror if you do not have a GPU set up on your machine.\n",
      "/home/qgq/miniconda3/lib/python3.8/site-packages/pytorch_lightning/trainer/data_loading.py:102: UserWarning: The dataloader, predict dataloader 0, does not have many workers which may be a bottleneck. Consider increasing the value of the `num_workers` argument` (try 64 which is the number of cpus on this machine) in the `DataLoader` init to improve performance.\n",
      "  rank_zero_warn(\n"
     ]
    },
    {
     "name": "stdout",
     "output_type": "stream",
     "text": [
      "Predicting: 100%|████████████████████████████████████████████████████████████████████████████████████████████████████████████████████████████████████| 81/81 [03:43<00:00,  2.75s/it]\n"
     ]
    }
   ],
   "source": [
    "import pytorch_lightning as pl\n",
    "\n",
    "trainer = pl.Trainer()\n",
    "result = trainer.predict(model, test_loader)"
   ]
  },
  {
   "cell_type": "code",
   "execution_count": 9,
   "id": "d3779b32",
   "metadata": {},
   "outputs": [
    {
     "ename": "IndexError",
     "evalue": "Dimension out of range (expected to be in range of [-1, 0], but got 1)",
     "output_type": "error",
     "traceback": [
      "\u001b[0;31m---------------------------------------------------------------------------\u001b[0m",
      "\u001b[0;31mIndexError\u001b[0m                                Traceback (most recent call last)",
      "Input \u001b[0;32mIn [9]\u001b[0m, in \u001b[0;36m<module>\u001b[0;34m\u001b[0m\n\u001b[1;32m      4\u001b[0m     y_pred\u001b[38;5;241m.\u001b[39mappend(r[\u001b[38;5;241m0\u001b[39m]\u001b[38;5;241m.\u001b[39mdetach())\n\u001b[1;32m      5\u001b[0m     y_true\u001b[38;5;241m.\u001b[39mappend(r[\u001b[38;5;241m1\u001b[39m]\u001b[38;5;241m.\u001b[39mdetach())\n\u001b[0;32m----> 6\u001b[0m np_result \u001b[38;5;241m=\u001b[39m \u001b[43mtorch\u001b[49m\u001b[38;5;241;43m.\u001b[39;49m\u001b[43mcat\u001b[49m\u001b[43m(\u001b[49m\u001b[43m \u001b[49m\u001b[43m(\u001b[49m\u001b[43mtorch\u001b[49m\u001b[38;5;241;43m.\u001b[39;49m\u001b[43mcat\u001b[49m\u001b[43m(\u001b[49m\u001b[43my_pred\u001b[49m\u001b[43m,\u001b[49m\u001b[43m \u001b[49m\u001b[38;5;241;43m0\u001b[39;49m\u001b[43m)\u001b[49m\u001b[43m,\u001b[49m\u001b[43m \u001b[49m\u001b[43mtorch\u001b[49m\u001b[38;5;241;43m.\u001b[39;49m\u001b[43mcat\u001b[49m\u001b[43m(\u001b[49m\u001b[43my_true\u001b[49m\u001b[43m,\u001b[49m\u001b[43m \u001b[49m\u001b[38;5;241;43m0\u001b[39;49m\u001b[43m)\u001b[49m\u001b[43m)\u001b[49m\u001b[43m,\u001b[49m\u001b[43m \u001b[49m\u001b[38;5;241;43m1\u001b[39;49m\u001b[43m)\u001b[49m\u001b[38;5;241m.\u001b[39mcpu()\u001b[38;5;241m.\u001b[39mnumpy()\n",
      "\u001b[0;31mIndexError\u001b[0m: Dimension out of range (expected to be in range of [-1, 0], but got 1)"
     ]
    }
   ],
   "source": [
    "import torch\n",
    "y_pred, y_true = [], []\n",
    "for r in result:\n",
    "    y_pred.append(r[0].detach())\n",
    "    y_true.append(r[1].detach())\n",
    "np_result = torch.cat( (torch.cat(y_pred, 0), torch.cat(y_true, 0)), 1).cpu().numpy()"
   ]
  },
  {
   "cell_type": "code",
   "execution_count": 15,
   "id": "5db9fb38",
   "metadata": {},
   "outputs": [
    {
     "data": {
      "text/plain": [
       "(torch.Size([10321]), torch.Size([10321, 1]))"
      ]
     },
     "execution_count": 15,
     "metadata": {},
     "output_type": "execute_result"
    }
   ],
   "source": [
    "torch.cat(y_pred, 0).shape, torch.cat(y_true, 0).shape"
   ]
  },
  {
   "cell_type": "code",
   "execution_count": 17,
   "id": "55a5265d",
   "metadata": {},
   "outputs": [],
   "source": [
    "import numpy as np\n",
    "result = np.load('../results/result.npy')"
   ]
  },
  {
   "cell_type": "code",
   "execution_count": 18,
   "id": "1263faf6",
   "metadata": {},
   "outputs": [
    {
     "data": {
      "text/plain": [
       "array([[ 0.81382453,  1.22      ],\n",
       "       [ 0.6524671 ,  0.24      ],\n",
       "       [ 0.65249956,  0.41      ],\n",
       "       ..., \n",
       "       [ 0.65249956,  0.61      ],\n",
       "       [ 1.0580295 ,  1.41      ],\n",
       "       [ 0.65249956,  0.33      ]], dtype=float32)"
      ]
     },
     "execution_count": 18,
     "metadata": {},
     "output_type": "execute_result"
    }
   ],
   "source": [
    "result"
   ]
  },
  {
   "cell_type": "code",
   "execution_count": 19,
   "id": "533eaa46",
   "metadata": {},
   "outputs": [],
   "source": [
    "y_pred = result[:, 0]\n",
    "y_label = result[:, 1]"
   ]
  },
  {
   "cell_type": "code",
   "execution_count": 20,
   "id": "42eb69f6",
   "metadata": {},
   "outputs": [
    {
     "data": {
      "text/plain": [
       "0.3279936"
      ]
     },
     "execution_count": 20,
     "metadata": {},
     "output_type": "execute_result"
    }
   ],
   "source": [
    "np.average(np.abs(y_pred - y_label))"
   ]
  },
  {
   "cell_type": "code",
   "execution_count": 21,
   "id": "4f027af5",
   "metadata": {},
   "outputs": [
    {
     "data": {
      "text/plain": [
       "0.023651885"
      ]
     },
     "execution_count": 21,
     "metadata": {},
     "output_type": "execute_result"
    }
   ],
   "source": [
    "np.average(y_pred - y_label)"
   ]
  },
  {
   "cell_type": "code",
   "execution_count": 26,
   "id": "72ebe82a",
   "metadata": {},
   "outputs": [
    {
     "data": {
      "text/plain": [
       "0.43858063"
      ]
     },
     "execution_count": 26,
     "metadata": {},
     "output_type": "execute_result"
    }
   ],
   "source": [
    "np.sqrt(np.average(np.square(y_pred - y_label)))"
   ]
  },
  {
   "cell_type": "code",
   "execution_count": 23,
   "id": "c40c4d96",
   "metadata": {},
   "outputs": [
    {
     "data": {
      "text/plain": [
       "0.40617546999999998"
      ]
     },
     "execution_count": 23,
     "metadata": {},
     "output_type": "execute_result"
    }
   ],
   "source": []
  },
  {
   "cell_type": "code",
   "execution_count": null,
   "id": "e3dcf8c5",
   "metadata": {},
   "outputs": [],
   "source": []
  }
 ],
 "metadata": {
  "kernelspec": {
   "display_name": "Python 3 (ipykernel)",
   "language": "python",
   "name": "python3"
  },
  "language_info": {
   "codemirror_mode": {
    "name": "ipython",
    "version": 3
   },
   "file_extension": ".py",
   "mimetype": "text/x-python",
   "name": "python",
   "nbconvert_exporter": "python",
   "pygments_lexer": "ipython3",
   "version": "3.8.5"
  }
 },
 "nbformat": 4,
 "nbformat_minor": 5
}
